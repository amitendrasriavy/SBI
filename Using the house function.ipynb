{
 "cells": [
  {
   "cell_type": "code",
   "execution_count": 1,
   "id": "b1893196-0a06-460c-ab83-2c9564cb27fe",
   "metadata": {
    "tags": []
   },
   "outputs": [],
   "source": [
    "import pandas as pd"
   ]
  },
  {
   "cell_type": "code",
   "execution_count": 2,
   "id": "3900ba4e-52dc-4e43-a24a-ba7e4906a317",
   "metadata": {
    "tags": []
   },
   "outputs": [],
   "source": [
    "df = pd.read_csv(\"Data/house new data for pred.csv\")"
   ]
  },
  {
   "cell_type": "code",
   "execution_count": 3,
   "id": "258c146d-2798-4a95-bdd1-210020bc607b",
   "metadata": {
    "tags": []
   },
   "outputs": [],
   "source": [
    "from house import predict_price"
   ]
  },
  {
   "cell_type": "code",
   "execution_count": 4,
   "id": "50fb06dc-7879-4ad6-b4c9-74e872a87a0a",
   "metadata": {
    "tags": []
   },
   "outputs": [
    {
     "data": {
      "text/plain": [
       "array([104565.41587528, 108894.88284068, 134488.06545545])"
      ]
     },
     "execution_count": 4,
     "metadata": {},
     "output_type": "execute_result"
    }
   ],
   "source": [
    "predict_price(df)"
   ]
  }
 ],
 "metadata": {
  "kernelspec": {
   "display_name": "Python 3 (ipykernel)",
   "language": "python",
   "name": "python3"
  },
  "language_info": {
   "codemirror_mode": {
    "name": "ipython",
    "version": 3
   },
   "file_extension": ".py",
   "mimetype": "text/x-python",
   "name": "python",
   "nbconvert_exporter": "python",
   "pygments_lexer": "ipython3",
   "version": "3.11.4"
  }
 },
 "nbformat": 4,
 "nbformat_minor": 5
}
