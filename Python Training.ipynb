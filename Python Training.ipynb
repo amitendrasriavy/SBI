{
 "cells": [
  {
   "cell_type": "code",
   "execution_count": null,
   "id": "3205dbd4-6a00-4332-812c-745ecaee0651",
   "metadata": {},
   "outputs": [],
   "source": [
    "65*63"
   ]
  },
  {
   "cell_type": "code",
   "execution_count": 7,
   "id": "f09a825a",
   "metadata": {},
   "outputs": [
    {
     "name": "stdout",
     "output_type": "stream",
     "text": [
      "Hello World!\n",
      "How are you?\n"
     ]
    }
   ],
   "source": [
    "print(\"Hello World!\")\n",
    "print(\"How are you?\")"
   ]
  },
  {
   "cell_type": "markdown",
   "id": "ca2ccd77-0ddc-4110-99cc-da24a713a401",
   "metadata": {},
   "source": [
    "# Python Basics\n",
    "## Variables and Datatypes"
   ]
  },
  {
   "cell_type": "code",
   "execution_count": 1,
   "id": "e31c169f-fa27-44ca-9827-59b89e5a3613",
   "metadata": {
    "tags": []
   },
   "outputs": [],
   "source": [
    "x = 30"
   ]
  },
  {
   "cell_type": "code",
   "execution_count": 2,
   "id": "05836ba4-2032-428c-b855-fac26f0e7534",
   "metadata": {
    "tags": []
   },
   "outputs": [
    {
     "data": {
      "text/plain": [
       "int"
      ]
     },
     "execution_count": 2,
     "metadata": {},
     "output_type": "execute_result"
    }
   ],
   "source": [
    "type(x)"
   ]
  },
  {
   "cell_type": "markdown",
   "id": "62db17d5-e3a6-465d-ab9a-d5194cd2c1b9",
   "metadata": {},
   "source": [
    "- integers\n",
    "- float\n",
    "- string\n",
    "- boolean\n",
    "- complex numbers"
   ]
  },
  {
   "cell_type": "code",
   "execution_count": 3,
   "id": "0a4f0dfe-d2c8-42b9-93cb-e4ffbd97082b",
   "metadata": {
    "tags": []
   },
   "outputs": [
    {
     "data": {
      "text/plain": [
       "30"
      ]
     },
     "execution_count": 3,
     "metadata": {},
     "output_type": "execute_result"
    }
   ],
   "source": [
    "x"
   ]
  },
  {
   "cell_type": "code",
   "execution_count": 5,
   "id": "10af0e14-adbe-466d-b5f8-df94d4c87212",
   "metadata": {
    "tags": []
   },
   "outputs": [],
   "source": [
    "y = 40"
   ]
  },
  {
   "cell_type": "code",
   "execution_count": 6,
   "id": "bd1b340f-8cf5-491f-ae37-da5a546eaa1b",
   "metadata": {
    "tags": []
   },
   "outputs": [
    {
     "data": {
      "text/plain": [
       "40"
      ]
     },
     "execution_count": 6,
     "metadata": {},
     "output_type": "execute_result"
    }
   ],
   "source": [
    "x\n",
    "y"
   ]
  },
  {
   "cell_type": "code",
   "execution_count": 7,
   "id": "fd72c7b1-0660-45a1-a205-4d5f2a27c662",
   "metadata": {
    "tags": []
   },
   "outputs": [
    {
     "data": {
      "text/plain": [
       "30"
      ]
     },
     "execution_count": 7,
     "metadata": {},
     "output_type": "execute_result"
    }
   ],
   "source": [
    "x"
   ]
  },
  {
   "cell_type": "code",
   "execution_count": 8,
   "id": "f146892b-3fa4-4873-bae3-271abee945f7",
   "metadata": {
    "tags": []
   },
   "outputs": [],
   "source": [
    "x = 30\n",
    "z = 30"
   ]
  },
  {
   "cell_type": "code",
   "execution_count": null,
   "id": "88075b01-8133-41ab-9b3e-fac0f6a0553e",
   "metadata": {},
   "outputs": [],
   "source": [
    "id(x)"
   ]
  },
  {
   "cell_type": "code",
   "execution_count": null,
   "id": "eae6dee9-d3ea-41ee-ba97-bd0971cfdc8c",
   "metadata": {},
   "outputs": [],
   "source": [
    "id(z)"
   ]
  },
  {
   "cell_type": "code",
   "execution_count": 9,
   "id": "a3a81fca-7467-48d6-ae85-8e883c43021b",
   "metadata": {
    "tags": []
   },
   "outputs": [],
   "source": [
    "del y"
   ]
  },
  {
   "cell_type": "markdown",
   "id": "243ad4b8-78fd-4663-85cc-6f70e3da6586",
   "metadata": {},
   "source": [
    "#### Operators"
   ]
  },
  {
   "cell_type": "code",
   "execution_count": 12,
   "id": "ffdae58f-52a1-4bdd-b785-f8858a2bcecf",
   "metadata": {
    "tags": []
   },
   "outputs": [
    {
     "data": {
      "text/plain": [
       "4"
      ]
     },
     "execution_count": 12,
     "metadata": {},
     "output_type": "execute_result"
    }
   ],
   "source": [
    "25 % 7 # modulo operator"
   ]
  },
  {
   "cell_type": "code",
   "execution_count": 13,
   "id": "38a1b5be-37a5-4dbb-89ed-4bb8826a0c4f",
   "metadata": {
    "tags": []
   },
   "outputs": [
    {
     "data": {
      "text/plain": [
       "3"
      ]
     },
     "execution_count": 13,
     "metadata": {},
     "output_type": "execute_result"
    }
   ],
   "source": [
    "25 // 7"
   ]
  },
  {
   "cell_type": "code",
   "execution_count": 14,
   "id": "1a76f190-56ed-4fb1-8c24-d57bcf2fbc44",
   "metadata": {
    "tags": []
   },
   "outputs": [
    {
     "data": {
      "text/plain": [
       "625"
      ]
     },
     "execution_count": 14,
     "metadata": {},
     "output_type": "execute_result"
    }
   ],
   "source": [
    "25**2"
   ]
  },
  {
   "cell_type": "code",
   "execution_count": 15,
   "id": "516a1cee-c8de-412c-b6c3-a3c642a657b0",
   "metadata": {
    "tags": []
   },
   "outputs": [
    {
     "data": {
      "text/plain": [
       "False"
      ]
     },
     "execution_count": 15,
     "metadata": {},
     "output_type": "execute_result"
    }
   ],
   "source": [
    "x == 40"
   ]
  },
  {
   "cell_type": "code",
   "execution_count": 16,
   "id": "f283184b-afa6-4fcd-9261-39eaf11499f7",
   "metadata": {
    "tags": []
   },
   "outputs": [
    {
     "data": {
      "text/plain": [
       "True"
      ]
     },
     "execution_count": 16,
     "metadata": {},
     "output_type": "execute_result"
    }
   ],
   "source": [
    "x !=40"
   ]
  },
  {
   "cell_type": "code",
   "execution_count": 18,
   "id": "144f1bc8-e00c-4084-96fc-f7ae116ea5e0",
   "metadata": {
    "tags": []
   },
   "outputs": [],
   "source": [
    "# Membership operator- in\n",
    "text = 'Python Language'\n",
    "text = \"Python Language\"\n",
    "text = \"\"\"Python Language\"\"\""
   ]
  },
  {
   "cell_type": "code",
   "execution_count": 20,
   "id": "f55c0807-303c-47b8-a994-6e0fcffb9554",
   "metadata": {
    "tags": []
   },
   "outputs": [
    {
     "data": {
      "text/plain": [
       "False"
      ]
     },
     "execution_count": 20,
     "metadata": {},
     "output_type": "execute_result"
    }
   ],
   "source": [
    "\"Y\" in text"
   ]
  },
  {
   "cell_type": "markdown",
   "id": "584a0d33-f9d6-4c41-a0fe-51c1f76b720c",
   "metadata": {},
   "source": [
    "## Data Structures"
   ]
  },
  {
   "cell_type": "markdown",
   "id": "f0f1f07f-466a-4307-a38a-3c33f121878a",
   "metadata": {},
   "source": [
    "#### Lists\n",
    "- An ordered collection of elements which could be of mixed data type"
   ]
  },
  {
   "cell_type": "code",
   "execution_count": 21,
   "id": "867bd3b6-add6-4209-bbb5-22c2e2f0d5a3",
   "metadata": {
    "tags": []
   },
   "outputs": [],
   "source": [
    "x = [200,300,1000,45.66]"
   ]
  },
  {
   "cell_type": "code",
   "execution_count": 22,
   "id": "86ddea5a-2d89-46ee-af5c-3e33d32494db",
   "metadata": {
    "tags": []
   },
   "outputs": [
    {
     "data": {
      "text/plain": [
       "list"
      ]
     },
     "execution_count": 22,
     "metadata": {},
     "output_type": "execute_result"
    }
   ],
   "source": [
    "type(x)"
   ]
  },
  {
   "cell_type": "code",
   "execution_count": 23,
   "id": "b377131e-37a8-4465-9f3e-02cdd67e9477",
   "metadata": {
    "tags": []
   },
   "outputs": [],
   "source": [
    "x.append(\"Python\")"
   ]
  },
  {
   "cell_type": "code",
   "execution_count": 24,
   "id": "dc49618b-6fac-4212-9401-9d4176b3d5aa",
   "metadata": {
    "tags": []
   },
   "outputs": [
    {
     "data": {
      "text/plain": [
       "[200, 300, 1000, 45.66, 'Python']"
      ]
     },
     "execution_count": 24,
     "metadata": {},
     "output_type": "execute_result"
    }
   ],
   "source": [
    "x"
   ]
  },
  {
   "cell_type": "code",
   "execution_count": 25,
   "id": "d6c91425-529f-4fd8-ad35-bbd02155c633",
   "metadata": {
    "tags": []
   },
   "outputs": [],
   "source": [
    "x.extend([120,340])"
   ]
  },
  {
   "cell_type": "code",
   "execution_count": 26,
   "id": "8255c6c5-e2a5-486f-894a-4282e9bd636e",
   "metadata": {
    "tags": []
   },
   "outputs": [
    {
     "data": {
      "text/plain": [
       "[200, 300, 1000, 45.66, 'Python', 120, 340]"
      ]
     },
     "execution_count": 26,
     "metadata": {},
     "output_type": "execute_result"
    }
   ],
   "source": [
    "x"
   ]
  },
  {
   "cell_type": "code",
   "execution_count": 27,
   "id": "a6b295c5-f676-48eb-927d-ecefb0478f27",
   "metadata": {
    "tags": []
   },
   "outputs": [
    {
     "ename": "TypeError",
     "evalue": "'<' not supported between instances of 'str' and 'int'",
     "output_type": "error",
     "traceback": [
      "\u001b[1;31m---------------------------------------------------------------------------\u001b[0m",
      "\u001b[1;31mTypeError\u001b[0m                                 Traceback (most recent call last)",
      "Cell \u001b[1;32mIn[27], line 1\u001b[0m\n\u001b[1;32m----> 1\u001b[0m x\u001b[38;5;241m.\u001b[39msort()\n",
      "\u001b[1;31mTypeError\u001b[0m: '<' not supported between instances of 'str' and 'int'"
     ]
    }
   ],
   "source": [
    "x.sort()"
   ]
  },
  {
   "cell_type": "code",
   "execution_count": 28,
   "id": "3bb63e91-d6ee-49bc-b314-40cddcae6723",
   "metadata": {
    "tags": []
   },
   "outputs": [],
   "source": [
    "y = [\"Python\",\"Java\",\"dot net\"]"
   ]
  },
  {
   "cell_type": "code",
   "execution_count": 29,
   "id": "f4a2c844-7e78-46f1-bc51-ce273c410298",
   "metadata": {
    "tags": []
   },
   "outputs": [],
   "source": [
    "y.sort()"
   ]
  },
  {
   "cell_type": "code",
   "execution_count": 30,
   "id": "319ce798-8565-49c8-b9db-03e18dd23e16",
   "metadata": {
    "tags": []
   },
   "outputs": [
    {
     "data": {
      "text/plain": [
       "['Java', 'Python', 'dot net']"
      ]
     },
     "execution_count": 30,
     "metadata": {},
     "output_type": "execute_result"
    }
   ],
   "source": [
    "y"
   ]
  },
  {
   "cell_type": "code",
   "execution_count": 31,
   "id": "5c38d4ba-c15c-493e-b73b-468fa81a416d",
   "metadata": {
    "tags": []
   },
   "outputs": [
    {
     "data": {
      "text/plain": [
       "[45.66, 200, 300, 1000, 'Python', 120, 340]"
      ]
     },
     "execution_count": 31,
     "metadata": {},
     "output_type": "execute_result"
    }
   ],
   "source": [
    "x"
   ]
  },
  {
   "cell_type": "code",
   "execution_count": 32,
   "id": "839cb9ca-8070-42fe-9d59-0c3168b91e23",
   "metadata": {
    "tags": []
   },
   "outputs": [],
   "source": [
    "x.remove(\"Python\")"
   ]
  },
  {
   "cell_type": "code",
   "execution_count": 34,
   "id": "d3a4c7e5-7cae-4f59-b16e-5d89d96812cb",
   "metadata": {
    "tags": []
   },
   "outputs": [],
   "source": [
    "x.append(340)"
   ]
  },
  {
   "cell_type": "code",
   "execution_count": 35,
   "id": "ea0b0dcf-dafa-434e-bd39-46819d025df3",
   "metadata": {
    "tags": []
   },
   "outputs": [
    {
     "data": {
      "text/plain": [
       "[45.66, 200, 300, 1000, 120, 340, 340]"
      ]
     },
     "execution_count": 35,
     "metadata": {},
     "output_type": "execute_result"
    }
   ],
   "source": [
    "x"
   ]
  },
  {
   "cell_type": "code",
   "execution_count": 36,
   "id": "ffd46f28-4515-4572-8cde-6f7b1794ec6a",
   "metadata": {
    "tags": []
   },
   "outputs": [],
   "source": [
    "x.remove(340)"
   ]
  },
  {
   "cell_type": "code",
   "execution_count": 37,
   "id": "54a12dc8-574d-4580-a084-8b86dbb0c55a",
   "metadata": {
    "tags": []
   },
   "outputs": [
    {
     "data": {
      "text/plain": [
       "[45.66, 200, 300, 1000, 120, 340]"
      ]
     },
     "execution_count": 37,
     "metadata": {},
     "output_type": "execute_result"
    }
   ],
   "source": [
    "x"
   ]
  },
  {
   "cell_type": "code",
   "execution_count": 38,
   "id": "ff496985-3270-467e-957a-6801f4ec8871",
   "metadata": {
    "tags": []
   },
   "outputs": [],
   "source": [
    "x.insert(2,\"Python\")"
   ]
  },
  {
   "cell_type": "code",
   "execution_count": 39,
   "id": "05ecad6f-1079-4b99-adbd-aefca565df6e",
   "metadata": {
    "tags": []
   },
   "outputs": [
    {
     "data": {
      "text/plain": [
       "[45.66, 200, 'Python', 300, 1000, 120, 340]"
      ]
     },
     "execution_count": 39,
     "metadata": {},
     "output_type": "execute_result"
    }
   ],
   "source": [
    "x"
   ]
  },
  {
   "cell_type": "markdown",
   "id": "4b0a1f44-ccb8-44dc-a4cb-2087d66aeb2a",
   "metadata": {},
   "source": [
    "#### Indexing & Slicing"
   ]
  },
  {
   "cell_type": "code",
   "execution_count": 40,
   "id": "b3809535-4aea-4588-8a98-956946f37e29",
   "metadata": {
    "tags": []
   },
   "outputs": [
    {
     "data": {
      "text/plain": [
       "[45.66, 200, 'Python', 300, 1000, 120, 340]"
      ]
     },
     "execution_count": 40,
     "metadata": {},
     "output_type": "execute_result"
    }
   ],
   "source": [
    "x"
   ]
  },
  {
   "cell_type": "code",
   "execution_count": 43,
   "id": "f749ae88-d551-4394-8df9-04a041cdcef4",
   "metadata": {
    "tags": []
   },
   "outputs": [
    {
     "data": {
      "text/plain": [
       "[200, 'Python', 300, 1000, 120]"
      ]
     },
     "execution_count": 43,
     "metadata": {},
     "output_type": "execute_result"
    }
   ],
   "source": [
    "x[1:-1]"
   ]
  },
  {
   "cell_type": "code",
   "execution_count": 42,
   "id": "9fc77e7b-fe4b-4ccb-aff7-e90637feb064",
   "metadata": {
    "tags": []
   },
   "outputs": [
    {
     "data": {
      "text/plain": [
       "[200, 'Python', 300]"
      ]
     },
     "execution_count": 42,
     "metadata": {},
     "output_type": "execute_result"
    }
   ],
   "source": [
    "x[1:4]"
   ]
  },
  {
   "cell_type": "code",
   "execution_count": 44,
   "id": "f4098b86-665d-4c1f-8159-a4989ca9efd5",
   "metadata": {
    "tags": []
   },
   "outputs": [],
   "source": [
    "x[0]=2500"
   ]
  },
  {
   "cell_type": "markdown",
   "id": "db82702c-a469-458f-b0bc-d9bce254d06c",
   "metadata": {},
   "source": [
    "#### Tuples"
   ]
  },
  {
   "cell_type": "code",
   "execution_count": 45,
   "id": "501740b3-c7ec-4b46-8aa1-6262a6e30f4d",
   "metadata": {
    "tags": []
   },
   "outputs": [],
   "source": [
    "t1 = (200,678,1200)"
   ]
  },
  {
   "cell_type": "code",
   "execution_count": 46,
   "id": "7f375bcc-145d-4990-b011-059b5a3520df",
   "metadata": {
    "tags": []
   },
   "outputs": [
    {
     "data": {
      "text/plain": [
       "[2500, 200, 'Python', 300, 1000, 120, 340]"
      ]
     },
     "execution_count": 46,
     "metadata": {},
     "output_type": "execute_result"
    }
   ],
   "source": [
    "x"
   ]
  },
  {
   "cell_type": "code",
   "execution_count": 47,
   "id": "b7085cd1-0431-4eeb-89c8-d8be4ad47bf4",
   "metadata": {
    "tags": []
   },
   "outputs": [],
   "source": [
    "t2 = tuple(x)"
   ]
  },
  {
   "cell_type": "markdown",
   "id": "2477bac6-ae86-4116-99c6-3bf602f4ad5a",
   "metadata": {},
   "source": [
    "#### Dictionary"
   ]
  },
  {
   "cell_type": "code",
   "execution_count": 48,
   "id": "8829ce3c-d59d-43ab-bd20-d76f73184ac8",
   "metadata": {
    "tags": []
   },
   "outputs": [],
   "source": [
    "d1 = {'Name':\"Sandeep\",'Age':35,'Email':\"sandy@abc.com\"}"
   ]
  },
  {
   "cell_type": "code",
   "execution_count": 49,
   "id": "be6380b3-0c4e-469d-8247-b40231d1285d",
   "metadata": {
    "tags": []
   },
   "outputs": [
    {
     "data": {
      "text/plain": [
       "{'Name': 'Sandeep', 'Age': 35, 'Email': 'sandy@abc.com'}"
      ]
     },
     "execution_count": 49,
     "metadata": {},
     "output_type": "execute_result"
    }
   ],
   "source": [
    "d1"
   ]
  },
  {
   "cell_type": "code",
   "execution_count": 50,
   "id": "1366d2dc-9cab-4f93-a6c9-e4379009010e",
   "metadata": {
    "tags": []
   },
   "outputs": [
    {
     "data": {
      "text/plain": [
       "dict_keys(['Name', 'Age', 'Email'])"
      ]
     },
     "execution_count": 50,
     "metadata": {},
     "output_type": "execute_result"
    }
   ],
   "source": [
    "d1.keys()"
   ]
  },
  {
   "cell_type": "code",
   "execution_count": 51,
   "id": "102862a3-4c60-4ba4-ac50-4bff1de87242",
   "metadata": {
    "tags": []
   },
   "outputs": [
    {
     "data": {
      "text/plain": [
       "dict_values(['Sandeep', 35, 'sandy@abc.com'])"
      ]
     },
     "execution_count": 51,
     "metadata": {},
     "output_type": "execute_result"
    }
   ],
   "source": [
    "d1.values()"
   ]
  },
  {
   "cell_type": "code",
   "execution_count": 52,
   "id": "36239833-a039-4506-a675-4378eafdaa43",
   "metadata": {
    "tags": []
   },
   "outputs": [
    {
     "data": {
      "text/plain": [
       "'Sandeep'"
      ]
     },
     "execution_count": 52,
     "metadata": {},
     "output_type": "execute_result"
    }
   ],
   "source": [
    "d1['Name']"
   ]
  },
  {
   "cell_type": "code",
   "execution_count": 53,
   "id": "45f65c8e-114a-430a-aed3-f5236d3d128d",
   "metadata": {
    "tags": []
   },
   "outputs": [
    {
     "ename": "KeyError",
     "evalue": "'Location'",
     "output_type": "error",
     "traceback": [
      "\u001b[1;31m---------------------------------------------------------------------------\u001b[0m",
      "\u001b[1;31mKeyError\u001b[0m                                  Traceback (most recent call last)",
      "Cell \u001b[1;32mIn[53], line 1\u001b[0m\n\u001b[1;32m----> 1\u001b[0m d1[\u001b[38;5;124m'\u001b[39m\u001b[38;5;124mLocation\u001b[39m\u001b[38;5;124m'\u001b[39m]\n",
      "\u001b[1;31mKeyError\u001b[0m: 'Location'"
     ]
    }
   ],
   "source": [
    "d1['Location']"
   ]
  },
  {
   "cell_type": "code",
   "execution_count": 55,
   "id": "f8630a56-0a88-4c7a-a6cd-621fd6824044",
   "metadata": {
    "tags": []
   },
   "outputs": [],
   "source": [
    "d1.get('Loc')"
   ]
  },
  {
   "cell_type": "code",
   "execution_count": 56,
   "id": "a9650112-9b09-443b-9f39-765e03e16434",
   "metadata": {
    "tags": []
   },
   "outputs": [],
   "source": [
    "d1.update({\"Name\":[\"Sandeep\",\"Avyaan\",\"Akash\"]})"
   ]
  },
  {
   "cell_type": "code",
   "execution_count": 57,
   "id": "2fa91166-08be-46bc-aaeb-15ad42b5009e",
   "metadata": {
    "tags": []
   },
   "outputs": [
    {
     "data": {
      "text/plain": [
       "{'Name': ['Sandeep', 'Avyaan', 'Akash'], 'Age': 35, 'Email': 'sandy@abc.com'}"
      ]
     },
     "execution_count": 57,
     "metadata": {},
     "output_type": "execute_result"
    }
   ],
   "source": [
    "d1"
   ]
  },
  {
   "cell_type": "code",
   "execution_count": 58,
   "id": "d5468e1f-fbb2-457c-a436-615936d612ee",
   "metadata": {
    "tags": []
   },
   "outputs": [
    {
     "data": {
      "text/plain": [
       "'Sandeep'"
      ]
     },
     "execution_count": 58,
     "metadata": {},
     "output_type": "execute_result"
    }
   ],
   "source": [
    "d1['Name'][0]"
   ]
  },
  {
   "cell_type": "code",
   "execution_count": 59,
   "id": "8eb5ddad-f4ba-4fae-b50e-2aab0b029b3b",
   "metadata": {
    "tags": []
   },
   "outputs": [],
   "source": [
    "d1['Name'][0]=\"Araina\""
   ]
  },
  {
   "cell_type": "code",
   "execution_count": 60,
   "id": "ec2c2675-e3ab-426f-b0a9-f3b75de507d0",
   "metadata": {
    "tags": []
   },
   "outputs": [
    {
     "data": {
      "text/plain": [
       "{'Name': ['Araina', 'Avyaan', 'Akash'], 'Age': 35, 'Email': 'sandy@abc.com'}"
      ]
     },
     "execution_count": 60,
     "metadata": {},
     "output_type": "execute_result"
    }
   ],
   "source": [
    "d1"
   ]
  },
  {
   "cell_type": "code",
   "execution_count": 61,
   "id": "5d0ddbef-0062-43b9-8641-668b63d8448f",
   "metadata": {
    "tags": []
   },
   "outputs": [
    {
     "data": {
      "text/plain": [
       "\u001b[1;31mSignature:\u001b[0m \u001b[0md1\u001b[0m\u001b[1;33m.\u001b[0m\u001b[0msetdefault\u001b[0m\u001b[1;33m(\u001b[0m\u001b[0mkey\u001b[0m\u001b[1;33m,\u001b[0m \u001b[0mdefault\u001b[0m\u001b[1;33m=\u001b[0m\u001b[1;32mNone\u001b[0m\u001b[1;33m,\u001b[0m \u001b[1;33m/\u001b[0m\u001b[1;33m)\u001b[0m\u001b[1;33m\u001b[0m\u001b[1;33m\u001b[0m\u001b[0m\n",
       "\u001b[1;31mDocstring:\u001b[0m\n",
       "Insert key with a value of default if key is not in the dictionary.\n",
       "\n",
       "Return the value for key if key is in the dictionary, else default.\n",
       "\u001b[1;31mType:\u001b[0m      builtin_function_or_method"
      ]
     },
     "metadata": {},
     "output_type": "display_data"
    }
   ],
   "source": [
    "d1.setdefault??"
   ]
  },
  {
   "cell_type": "code",
   "execution_count": 62,
   "id": "f4eab917-1ed8-471f-baa6-bbe74a0f65a6",
   "metadata": {
    "tags": []
   },
   "outputs": [
    {
     "data": {
      "text/plain": [
       "['Araina', 'Avyaan', 'Akash']"
      ]
     },
     "execution_count": 62,
     "metadata": {},
     "output_type": "execute_result"
    }
   ],
   "source": [
    "d1.setdefault(\"Name\",\"Amit\")"
   ]
  },
  {
   "cell_type": "code",
   "execution_count": 64,
   "id": "31276e60-cc4c-4ebb-8836-cdde73d7cbef",
   "metadata": {
    "tags": []
   },
   "outputs": [
    {
     "data": {
      "text/plain": [
       "'India'"
      ]
     },
     "execution_count": 64,
     "metadata": {},
     "output_type": "execute_result"
    }
   ],
   "source": [
    "d1.setdefault('Location',\"India\")"
   ]
  },
  {
   "cell_type": "markdown",
   "id": "be651250-966b-4805-9840-6acaaeb86d21",
   "metadata": {
    "tags": []
   },
   "source": [
    "#### Sets"
   ]
  },
  {
   "cell_type": "code",
   "execution_count": 69,
   "id": "83cde283-f968-4aa3-a816-0d75ea0c32b7",
   "metadata": {
    "tags": []
   },
   "outputs": [],
   "source": [
    "# an unordered collection of unique elements\n",
    "s1 = {20,30,30,30,45,67,89,100,100,120}"
   ]
  },
  {
   "cell_type": "code",
   "execution_count": 70,
   "id": "9b8e325a-58bd-4425-893d-700786ccd4d0",
   "metadata": {
    "tags": []
   },
   "outputs": [
    {
     "data": {
      "text/plain": [
       "{20, 30, 45, 67, 89, 100, 120}"
      ]
     },
     "execution_count": 70,
     "metadata": {},
     "output_type": "execute_result"
    }
   ],
   "source": [
    "s1"
   ]
  },
  {
   "cell_type": "code",
   "execution_count": 71,
   "id": "909522f3-d974-4ada-8b88-4ff35a9d90dc",
   "metadata": {
    "tags": []
   },
   "outputs": [],
   "source": [
    "s2 = {1,2,3,20,30,67,100,200,300}"
   ]
  },
  {
   "cell_type": "code",
   "execution_count": 72,
   "id": "76c9186a-7038-4104-8d0a-ead3a02ecd5f",
   "metadata": {
    "tags": []
   },
   "outputs": [
    {
     "ename": "TypeError",
     "evalue": "unsupported operand type(s) for +: 'set' and 'set'",
     "output_type": "error",
     "traceback": [
      "\u001b[1;31m---------------------------------------------------------------------------\u001b[0m",
      "\u001b[1;31mTypeError\u001b[0m                                 Traceback (most recent call last)",
      "Cell \u001b[1;32mIn[72], line 1\u001b[0m\n\u001b[1;32m----> 1\u001b[0m s1 \u001b[38;5;241m+\u001b[39m s2\n",
      "\u001b[1;31mTypeError\u001b[0m: unsupported operand type(s) for +: 'set' and 'set'"
     ]
    }
   ],
   "source": [
    "s1 + s2"
   ]
  },
  {
   "cell_type": "code",
   "execution_count": 73,
   "id": "e1ff7653-90c4-4b41-b598-d1cbc7739cde",
   "metadata": {
    "tags": []
   },
   "outputs": [
    {
     "data": {
      "text/plain": [
       "{45, 89, 120}"
      ]
     },
     "execution_count": 73,
     "metadata": {},
     "output_type": "execute_result"
    }
   ],
   "source": [
    "s1 - s2"
   ]
  },
  {
   "cell_type": "code",
   "execution_count": 74,
   "id": "3096f783-3e1a-4500-a9bd-95da202f1ca1",
   "metadata": {
    "tags": []
   },
   "outputs": [
    {
     "data": {
      "text/plain": [
       "{1, 2, 3, 20, 30, 45, 67, 89, 100, 120, 200, 300}"
      ]
     },
     "execution_count": 74,
     "metadata": {},
     "output_type": "execute_result"
    }
   ],
   "source": [
    "# Union\n",
    "s1 | s2"
   ]
  },
  {
   "cell_type": "code",
   "execution_count": 75,
   "id": "60573650-41a9-46fc-a0d9-b9bab2ecfc8d",
   "metadata": {
    "tags": []
   },
   "outputs": [
    {
     "data": {
      "text/plain": [
       "{1, 2, 3, 20, 30, 45, 67, 89, 100, 120, 200, 300}"
      ]
     },
     "execution_count": 75,
     "metadata": {},
     "output_type": "execute_result"
    }
   ],
   "source": [
    "s1.union(s2)"
   ]
  },
  {
   "cell_type": "code",
   "execution_count": 76,
   "id": "a0c4a5cf-7984-4b30-8da4-cfdb46a7d515",
   "metadata": {
    "tags": []
   },
   "outputs": [
    {
     "data": {
      "text/plain": [
       "{20, 30, 67, 100}"
      ]
     },
     "execution_count": 76,
     "metadata": {},
     "output_type": "execute_result"
    }
   ],
   "source": [
    "s1 & s2"
   ]
  },
  {
   "cell_type": "markdown",
   "id": "33d14a33-c07d-4865-aa1e-6576f4e096b0",
   "metadata": {},
   "source": [
    "#### Conditional Statements"
   ]
  },
  {
   "cell_type": "code",
   "execution_count": 82,
   "id": "3e9f2cdd-5f08-4f1f-85a5-2c14c2628ea4",
   "metadata": {
    "tags": []
   },
   "outputs": [
    {
     "name": "stdout",
     "output_type": "stream",
     "text": [
      "Fail\n",
      "Congrats!\n"
     ]
    }
   ],
   "source": [
    "Math = 32\n",
    "\n",
    "# if math score is more than or equal to 40 then pass else fail\n",
    "\n",
    "if Math >= 40:\n",
    "    print(\"Pass\")\n",
    "else:\n",
    "    print(\"Fail\")\n",
    "print(\"Congrats!\")"
   ]
  },
  {
   "cell_type": "raw",
   "id": "53590194-23d4-4d5b-a44a-7c506ce2bacb",
   "metadata": {},
   "source": [
    "math < 40: F\n",
    "40<= math < 60 : C\n",
    "60<= math < 75 : B\n",
    "math >=75 : A"
   ]
  },
  {
   "cell_type": "code",
   "execution_count": 85,
   "id": "7a61e3eb-1541-4dce-b3da-2468071ab0a8",
   "metadata": {
    "tags": []
   },
   "outputs": [
    {
     "name": "stdout",
     "output_type": "stream",
     "text": [
      "F\n"
     ]
    }
   ],
   "source": [
    "if Math<40:\n",
    "    print(\"F\")\n",
    "\n",
    "elif Math>=40 and Math < 60:\n",
    "    print(\"C\")\n",
    "\n",
    "elif Math < 75:\n",
    "    print(\"B\")\n",
    "else:\n",
    "    print(\"A\")\n",
    "    "
   ]
  },
  {
   "cell_type": "markdown",
   "id": "79eef717-b0af-4769-b31e-a3e0a01e82c5",
   "metadata": {},
   "source": [
    "#### Loops"
   ]
  },
  {
   "cell_type": "code",
   "execution_count": 86,
   "id": "58fe08de-9cac-438f-8f48-cabdfbe866f2",
   "metadata": {
    "tags": []
   },
   "outputs": [],
   "source": [
    "x = [2,6,8,10]"
   ]
  },
  {
   "cell_type": "code",
   "execution_count": 92,
   "id": "d13bc5ca-5bf8-4334-86e5-a34d76fc1b83",
   "metadata": {
    "tags": []
   },
   "outputs": [
    {
     "name": "stdout",
     "output_type": "stream",
     "text": [
      "[2, 6, 8, 10, 2, 6, 8, 10]\n",
      "[2, 6, 8, 10, 2, 6, 8, 10]\n",
      "[2, 6, 8, 10, 2, 6, 8, 10]\n",
      "[2, 6, 8, 10, 2, 6, 8, 10]\n"
     ]
    }
   ],
   "source": [
    "for i in x:\n",
    "    print(x*2)"
   ]
  },
  {
   "cell_type": "code",
   "execution_count": 93,
   "id": "0d6d773f-18fc-4380-809d-26c5f52ee8ca",
   "metadata": {
    "tags": []
   },
   "outputs": [
    {
     "data": {
      "text/plain": [
       "[2, 6, 8, 10]"
      ]
     },
     "execution_count": 93,
     "metadata": {},
     "output_type": "execute_result"
    }
   ],
   "source": [
    "x"
   ]
  },
  {
   "cell_type": "code",
   "execution_count": 94,
   "id": "7e1174b4-4878-44eb-8ae1-f4748ea8c323",
   "metadata": {
    "tags": []
   },
   "outputs": [
    {
     "name": "stdout",
     "output_type": "stream",
     "text": [
      "4\n",
      "36\n"
     ]
    }
   ],
   "source": [
    "for i in x:\n",
    "    if i ==8:\n",
    "        break\n",
    "    print(i**2)"
   ]
  },
  {
   "cell_type": "code",
   "execution_count": 95,
   "id": "1b869600-04c6-4658-876f-bd01eaeed1d5",
   "metadata": {
    "tags": []
   },
   "outputs": [
    {
     "name": "stdout",
     "output_type": "stream",
     "text": [
      "4\n",
      "36\n",
      "100\n"
     ]
    }
   ],
   "source": [
    "for i in x:\n",
    "    \n",
    "    if i ==8:\n",
    "        continue\n",
    "    print(i**2)"
   ]
  },
  {
   "cell_type": "code",
   "execution_count": 96,
   "id": "dbe254e5-8d5f-482e-8b95-3409ac6c7939",
   "metadata": {
    "tags": []
   },
   "outputs": [
    {
     "data": {
      "text/plain": [
       "[2, 6, 8, 10]"
      ]
     },
     "execution_count": 96,
     "metadata": {},
     "output_type": "execute_result"
    }
   ],
   "source": [
    "x"
   ]
  },
  {
   "cell_type": "code",
   "execution_count": 97,
   "id": "a9b93ec1-cef6-4683-81e9-585a8e98a0f6",
   "metadata": {
    "tags": []
   },
   "outputs": [
    {
     "name": "stdout",
     "output_type": "stream",
     "text": [
      "10\n",
      "9\n",
      "8\n",
      "7\n",
      "6\n",
      "5\n"
     ]
    }
   ],
   "source": [
    "x = 10\n",
    "while x>4:\n",
    "    print(x)\n",
    "    x = x-1"
   ]
  },
  {
   "cell_type": "markdown",
   "id": "88d619df-92d9-442d-99bd-80106c463136",
   "metadata": {},
   "source": [
    "#### Input"
   ]
  },
  {
   "cell_type": "code",
   "execution_count": 98,
   "id": "502392db-b307-4603-8b88-074d95614414",
   "metadata": {
    "tags": []
   },
   "outputs": [
    {
     "name": "stdin",
     "output_type": "stream",
     "text": [
      "Enter your name. Amitendra\n"
     ]
    }
   ],
   "source": [
    "name = input(\"Enter your name.\")"
   ]
  },
  {
   "cell_type": "code",
   "execution_count": 99,
   "id": "a779f326-a2ee-4173-9199-86254ad2880f",
   "metadata": {
    "tags": []
   },
   "outputs": [
    {
     "data": {
      "text/plain": [
       "'Amitendra'"
      ]
     },
     "execution_count": 99,
     "metadata": {},
     "output_type": "execute_result"
    }
   ],
   "source": [
    "name"
   ]
  },
  {
   "cell_type": "code",
   "execution_count": 105,
   "id": "6f2a63b1-2ae2-464b-bf74-f35366e4af0a",
   "metadata": {
    "tags": []
   },
   "outputs": [
    {
     "name": "stdin",
     "output_type": "stream",
     "text": [
      "Enter first number. p\n"
     ]
    },
    {
     "ename": "ValueError",
     "evalue": "could not convert string to float: 'p'",
     "output_type": "error",
     "traceback": [
      "\u001b[1;31m---------------------------------------------------------------------------\u001b[0m",
      "\u001b[1;31mValueError\u001b[0m                                Traceback (most recent call last)",
      "Cell \u001b[1;32mIn[105], line 1\u001b[0m\n\u001b[1;32m----> 1\u001b[0m a \u001b[38;5;241m=\u001b[39m \u001b[38;5;28mfloat\u001b[39m(\u001b[38;5;28minput\u001b[39m(\u001b[38;5;124m\"\u001b[39m\u001b[38;5;124mEnter first number.\u001b[39m\u001b[38;5;124m\"\u001b[39m))\n\u001b[0;32m      2\u001b[0m b \u001b[38;5;241m=\u001b[39m \u001b[38;5;28mfloat\u001b[39m(\u001b[38;5;28minput\u001b[39m(\u001b[38;5;124m\"\u001b[39m\u001b[38;5;124mEnter second number\u001b[39m\u001b[38;5;124m\"\u001b[39m))\n",
      "\u001b[1;31mValueError\u001b[0m: could not convert string to float: 'p'"
     ]
    }
   ],
   "source": [
    "a = float(input(\"Enter first number.\"))\n",
    "b = float(input(\"Enter second number\"))"
   ]
  },
  {
   "cell_type": "code",
   "execution_count": 104,
   "id": "2e1574b2-c2cb-4eed-8d39-f1e8dcd0d99d",
   "metadata": {
    "tags": []
   },
   "outputs": [
    {
     "name": "stdout",
     "output_type": "stream",
     "text": [
      "50.0\n"
     ]
    }
   ],
   "source": [
    "print(a+b)"
   ]
  },
  {
   "cell_type": "markdown",
   "id": "db9ac64e-e8e2-4fe7-9fad-79268770c3f0",
   "metadata": {},
   "source": [
    "#### Error Handling"
   ]
  },
  {
   "cell_type": "code",
   "execution_count": 108,
   "id": "b5e92836-7b93-4605-950e-a8713495eec0",
   "metadata": {
    "tags": []
   },
   "outputs": [
    {
     "name": "stdin",
     "output_type": "stream",
     "text": [
      "Enter first number. kjghjg\n"
     ]
    },
    {
     "name": "stdout",
     "output_type": "stream",
     "text": [
      "Enter numbers only\n",
      "Error:  could not convert string to float: 'kjghjg'\n"
     ]
    }
   ],
   "source": [
    "try:\n",
    "    a = float(input(\"Enter first number.\"))\n",
    "    b = float(input(\"Enter second number\"))\n",
    "\n",
    "except ValueError as e:\n",
    "    print(\"Enter numbers only\")\n",
    "    print(\"Error: \",e)\n",
    "\n",
    "    "
   ]
  },
  {
   "cell_type": "code",
   "execution_count": 112,
   "id": "104f8eb0-ca9e-4604-ba66-dc94e5c881a3",
   "metadata": {
    "tags": []
   },
   "outputs": [
    {
     "data": {
      "text/plain": [
       "[10, 9, 8, 7, 6, 5, 4, 3, 2]"
      ]
     },
     "execution_count": 112,
     "metadata": {},
     "output_type": "execute_result"
    }
   ],
   "source": [
    "list(range(10,1,-1))"
   ]
  },
  {
   "cell_type": "code",
   "execution_count": 113,
   "id": "cc3e0e4d-6a60-4afc-a401-f66ef969a476",
   "metadata": {
    "tags": []
   },
   "outputs": [
    {
     "data": {
      "text/plain": [
       "[1, 6, 11, 16, 21, 26, 31, 36, 41, 46, 51, 56, 61, 66, 71, 76, 81, 86, 91, 96]"
      ]
     },
     "execution_count": 113,
     "metadata": {},
     "output_type": "execute_result"
    }
   ],
   "source": [
    "list(range(1,100,5))"
   ]
  },
  {
   "cell_type": "code",
   "execution_count": 114,
   "id": "cc192a45-a486-43df-b69d-8191d3889d87",
   "metadata": {
    "tags": []
   },
   "outputs": [
    {
     "name": "stdout",
     "output_type": "stream",
     "text": [
      "1\n",
      "2\n",
      "3\n",
      "4\n",
      "5\n",
      "6\n",
      "7\n",
      "8\n",
      "9\n"
     ]
    }
   ],
   "source": [
    "for i in range(1,10):\n",
    "    print(i)"
   ]
  },
  {
   "cell_type": "raw",
   "id": "22d913b1-ed39-48f9-93fb-0b67d76a1c47",
   "metadata": {},
   "source": [
    "Find all the numbers between 2000 and 3000 \n",
    "where every digit of the number is an even number. \n",
    "Create a list of those numbers."
   ]
  },
  {
   "cell_type": "code",
   "execution_count": 119,
   "id": "a4fa225e-5efe-4e6d-875c-670d991b544d",
   "metadata": {
    "tags": []
   },
   "outputs": [],
   "source": [
    "result=[]\n",
    "for i in range(2000,3001,2):\n",
    "    \n",
    "    is_even = True\n",
    "    x = str(i)\n",
    "    \n",
    "    for j in x:\n",
    "        if int(j)%2==1:\n",
    "            is_even=False\n",
    "            break\n",
    "    if is_even:\n",
    "        result.append(int(x))    \n",
    "    "
   ]
  },
  {
   "cell_type": "code",
   "execution_count": 120,
   "id": "47f56dd3-e33a-49ab-b837-780ac533c8f9",
   "metadata": {
    "tags": []
   },
   "outputs": [
    {
     "data": {
      "text/plain": [
       "[2000,\n",
       " 2002,\n",
       " 2004,\n",
       " 2006,\n",
       " 2008,\n",
       " 2020,\n",
       " 2022,\n",
       " 2024,\n",
       " 2026,\n",
       " 2028,\n",
       " 2040,\n",
       " 2042,\n",
       " 2044,\n",
       " 2046,\n",
       " 2048,\n",
       " 2060,\n",
       " 2062,\n",
       " 2064,\n",
       " 2066,\n",
       " 2068,\n",
       " 2080,\n",
       " 2082,\n",
       " 2084,\n",
       " 2086,\n",
       " 2088,\n",
       " 2200,\n",
       " 2202,\n",
       " 2204,\n",
       " 2206,\n",
       " 2208,\n",
       " 2220,\n",
       " 2222,\n",
       " 2224,\n",
       " 2226,\n",
       " 2228,\n",
       " 2240,\n",
       " 2242,\n",
       " 2244,\n",
       " 2246,\n",
       " 2248,\n",
       " 2260,\n",
       " 2262,\n",
       " 2264,\n",
       " 2266,\n",
       " 2268,\n",
       " 2280,\n",
       " 2282,\n",
       " 2284,\n",
       " 2286,\n",
       " 2288,\n",
       " 2400,\n",
       " 2402,\n",
       " 2404,\n",
       " 2406,\n",
       " 2408,\n",
       " 2420,\n",
       " 2422,\n",
       " 2424,\n",
       " 2426,\n",
       " 2428,\n",
       " 2440,\n",
       " 2442,\n",
       " 2444,\n",
       " 2446,\n",
       " 2448,\n",
       " 2460,\n",
       " 2462,\n",
       " 2464,\n",
       " 2466,\n",
       " 2468,\n",
       " 2480,\n",
       " 2482,\n",
       " 2484,\n",
       " 2486,\n",
       " 2488,\n",
       " 2600,\n",
       " 2602,\n",
       " 2604,\n",
       " 2606,\n",
       " 2608,\n",
       " 2620,\n",
       " 2622,\n",
       " 2624,\n",
       " 2626,\n",
       " 2628,\n",
       " 2640,\n",
       " 2642,\n",
       " 2644,\n",
       " 2646,\n",
       " 2648,\n",
       " 2660,\n",
       " 2662,\n",
       " 2664,\n",
       " 2666,\n",
       " 2668,\n",
       " 2680,\n",
       " 2682,\n",
       " 2684,\n",
       " 2686,\n",
       " 2688,\n",
       " 2800,\n",
       " 2802,\n",
       " 2804,\n",
       " 2806,\n",
       " 2808,\n",
       " 2820,\n",
       " 2822,\n",
       " 2824,\n",
       " 2826,\n",
       " 2828,\n",
       " 2840,\n",
       " 2842,\n",
       " 2844,\n",
       " 2846,\n",
       " 2848,\n",
       " 2860,\n",
       " 2862,\n",
       " 2864,\n",
       " 2866,\n",
       " 2868,\n",
       " 2880,\n",
       " 2882,\n",
       " 2884,\n",
       " 2886,\n",
       " 2888]"
      ]
     },
     "execution_count": 120,
     "metadata": {},
     "output_type": "execute_result"
    }
   ],
   "source": [
    "result"
   ]
  },
  {
   "cell_type": "markdown",
   "id": "342890f1-b848-452b-98d4-c7e70ebe3832",
   "metadata": {},
   "source": [
    "#### User Defined Functions"
   ]
  },
  {
   "cell_type": "code",
   "execution_count": 125,
   "id": "96a61c67-d449-48e3-b4d2-9257978f9475",
   "metadata": {
    "tags": []
   },
   "outputs": [],
   "source": [
    "def greetings():\n",
    "    name =input(\"Enter your name.\")\n",
    "    print(\"Hi! {0} How are you?\".format(name))"
   ]
  },
  {
   "cell_type": "code",
   "execution_count": 126,
   "id": "664b1d38-8774-40a6-a599-2a646460fe04",
   "metadata": {
    "tags": []
   },
   "outputs": [
    {
     "name": "stdin",
     "output_type": "stream",
     "text": [
      "Enter your name. Amit\n"
     ]
    },
    {
     "name": "stdout",
     "output_type": "stream",
     "text": [
      "Hi! Amit How are you?\n"
     ]
    }
   ],
   "source": [
    "greetings()"
   ]
  },
  {
   "cell_type": "code",
   "execution_count": 127,
   "id": "e663e83c-b0ec-4ef9-adb2-dfdcba913916",
   "metadata": {
    "tags": []
   },
   "outputs": [],
   "source": [
    "# functions with arguments\n",
    "\n",
    "def volCone(radius, height):\n",
    "    \n",
    "    volume = 3.14*(radius**2)*height/3\n",
    "    print(volume)"
   ]
  },
  {
   "cell_type": "code",
   "execution_count": 129,
   "id": "401b338a-55de-458e-8afd-589aecef3af3",
   "metadata": {
    "tags": []
   },
   "outputs": [
    {
     "name": "stdout",
     "output_type": "stream",
     "text": [
      "12.56\n"
     ]
    }
   ],
   "source": [
    "volCone(2,3)"
   ]
  },
  {
   "cell_type": "code",
   "execution_count": 130,
   "id": "aee354d5-8f0b-45ec-baf1-08f62d71d6b0",
   "metadata": {
    "tags": []
   },
   "outputs": [
    {
     "name": "stdout",
     "output_type": "stream",
     "text": [
      "523.3333333333334\n"
     ]
    }
   ],
   "source": [
    "volCone(height=20,radius=5)"
   ]
  },
  {
   "cell_type": "code",
   "execution_count": 131,
   "id": "345afd4b-b7bd-4fb9-8374-92e777978b9e",
   "metadata": {
    "tags": []
   },
   "outputs": [
    {
     "ename": "NameError",
     "evalue": "name 'radius' is not defined",
     "output_type": "error",
     "traceback": [
      "\u001b[1;31m---------------------------------------------------------------------------\u001b[0m",
      "\u001b[1;31mNameError\u001b[0m                                 Traceback (most recent call last)",
      "Cell \u001b[1;32mIn[131], line 1\u001b[0m\n\u001b[1;32m----> 1\u001b[0m \u001b[38;5;28mprint\u001b[39m(radius)\n",
      "\u001b[1;31mNameError\u001b[0m: name 'radius' is not defined"
     ]
    }
   ],
   "source": [
    "print(radius)"
   ]
  },
  {
   "cell_type": "code",
   "execution_count": 133,
   "id": "bffe285c-9989-4678-b916-467695328098",
   "metadata": {
    "tags": []
   },
   "outputs": [
    {
     "data": {
      "text/plain": [
       "'3000'"
      ]
     },
     "execution_count": 133,
     "metadata": {},
     "output_type": "execute_result"
    }
   ],
   "source": [
    "x"
   ]
  },
  {
   "cell_type": "code",
   "execution_count": 132,
   "id": "521ed4c6-162e-4652-8506-a940fa8a3ef1",
   "metadata": {
    "tags": []
   },
   "outputs": [
    {
     "ename": "TypeError",
     "evalue": "unsupported operand type(s) for ** or pow(): 'str' and 'int'",
     "output_type": "error",
     "traceback": [
      "\u001b[1;31m---------------------------------------------------------------------------\u001b[0m",
      "\u001b[1;31mTypeError\u001b[0m                                 Traceback (most recent call last)",
      "Cell \u001b[1;32mIn[132], line 1\u001b[0m\n\u001b[1;32m----> 1\u001b[0m volCone(x,\u001b[38;5;241m20\u001b[39m)\n",
      "Cell \u001b[1;32mIn[127], line 5\u001b[0m, in \u001b[0;36mvolCone\u001b[1;34m(radius, height)\u001b[0m\n\u001b[0;32m      3\u001b[0m \u001b[38;5;28;01mdef\u001b[39;00m \u001b[38;5;21mvolCone\u001b[39m(radius, height):\n\u001b[1;32m----> 5\u001b[0m     volume \u001b[38;5;241m=\u001b[39m \u001b[38;5;241m3.14\u001b[39m\u001b[38;5;241m*\u001b[39m(radius\u001b[38;5;241m*\u001b[39m\u001b[38;5;241m*\u001b[39m\u001b[38;5;241m2\u001b[39m)\u001b[38;5;241m*\u001b[39mheight\u001b[38;5;241m/\u001b[39m\u001b[38;5;241m3\u001b[39m\n\u001b[0;32m      6\u001b[0m     \u001b[38;5;28mprint\u001b[39m(volume)\n",
      "\u001b[1;31mTypeError\u001b[0m: unsupported operand type(s) for ** or pow(): 'str' and 'int'"
     ]
    }
   ],
   "source": [
    "volCone(x,20)"
   ]
  },
  {
   "cell_type": "code",
   "execution_count": 134,
   "id": "2910e44a-259c-49c9-8255-9ecbb7271e38",
   "metadata": {
    "tags": []
   },
   "outputs": [
    {
     "name": "stdout",
     "output_type": "stream",
     "text": [
      "12.56\n"
     ]
    }
   ],
   "source": [
    "v1=volCone(2,3)"
   ]
  },
  {
   "cell_type": "code",
   "execution_count": 136,
   "id": "5a638c72-99bb-4483-8367-be51fef817f0",
   "metadata": {
    "tags": []
   },
   "outputs": [],
   "source": [
    "# functions with arguments\n",
    "\n",
    "def volCone(radius, height):\n",
    "    \n",
    "    volume = 3.14*(radius**2)*height/3\n",
    "    print(\"Calculating Volume.................\")\n",
    "    return volume"
   ]
  },
  {
   "cell_type": "code",
   "execution_count": 138,
   "id": "00dba493-7ab8-445a-bb2d-9ec68cf66aa1",
   "metadata": {
    "tags": []
   },
   "outputs": [
    {
     "name": "stdout",
     "output_type": "stream",
     "text": [
      "Calculating Volume.................\n"
     ]
    }
   ],
   "source": [
    "v1=volCone(2,3)"
   ]
  },
  {
   "cell_type": "code",
   "execution_count": 139,
   "id": "8cb65cb2-a695-4dae-ac2b-602695bebd6c",
   "metadata": {
    "tags": []
   },
   "outputs": [
    {
     "data": {
      "text/plain": [
       "12.56"
      ]
     },
     "execution_count": 139,
     "metadata": {},
     "output_type": "execute_result"
    }
   ],
   "source": [
    "v1"
   ]
  },
  {
   "cell_type": "code",
   "execution_count": 142,
   "id": "374fc77a-ffad-4561-a60d-9b39a8aed6e3",
   "metadata": {
    "tags": []
   },
   "outputs": [],
   "source": [
    "# default values for arguments\n",
    "\n",
    "# functions with arguments\n",
    "\n",
    "def volCone(height=100,radius=3):\n",
    "    \n",
    "    volume = 3.14*(radius**2)*height/3\n",
    "    print(volume)"
   ]
  },
  {
   "cell_type": "code",
   "execution_count": 145,
   "id": "5fb2af46-a10e-412a-98e8-cd3edfb08810",
   "metadata": {
    "tags": []
   },
   "outputs": [
    {
     "name": "stdout",
     "output_type": "stream",
     "text": [
      "47.1\n"
     ]
    }
   ],
   "source": [
    "volCone(5)"
   ]
  },
  {
   "cell_type": "code",
   "execution_count": 146,
   "id": "4a06717c-dd94-49ef-b366-eec6fbde33a2",
   "metadata": {
    "tags": []
   },
   "outputs": [],
   "source": [
    "# arbitrary number of args\n",
    "def add(a,b):\n",
    "    return a+b"
   ]
  },
  {
   "cell_type": "code",
   "execution_count": 153,
   "id": "50c8e9a6-74a2-4c37-b250-988e4e9c4e1c",
   "metadata": {
    "tags": []
   },
   "outputs": [],
   "source": [
    "def add_numbers(*args):\n",
    "    \n",
    "    sum_numbers = sum(args)\n",
    "    \n",
    "    return sum_numbers"
   ]
  },
  {
   "cell_type": "code",
   "execution_count": 154,
   "id": "1324b9ab-3fda-4c22-adf4-b38fd7b69d36",
   "metadata": {
    "tags": []
   },
   "outputs": [
    {
     "data": {
      "text/plain": [
       "21"
      ]
     },
     "execution_count": 154,
     "metadata": {},
     "output_type": "execute_result"
    }
   ],
   "source": [
    "add_numbers(2,7,9,3)"
   ]
  },
  {
   "cell_type": "code",
   "execution_count": 155,
   "id": "ce639c3c-da5e-4c35-9caf-71459e88ea45",
   "metadata": {
    "tags": []
   },
   "outputs": [],
   "source": [
    "def check_numbers(*args):\n",
    "    \n",
    "    for i in args:\n",
    "        if i%2==0:\n",
    "            print(i,\"Even\")\n",
    "        else:\n",
    "            print(i,\"odd\")\n"
   ]
  },
  {
   "cell_type": "code",
   "execution_count": 156,
   "id": "feb99cc0-2727-433d-ba1a-e8da99e874c0",
   "metadata": {
    "tags": []
   },
   "outputs": [
    {
     "name": "stdout",
     "output_type": "stream",
     "text": [
      "2 Even\n",
      "9 odd\n",
      "6 Even\n",
      "5 odd\n"
     ]
    }
   ],
   "source": [
    "check_numbers(2,9,6,5)"
   ]
  },
  {
   "cell_type": "code",
   "execution_count": 157,
   "id": "289ff6db-5a71-4507-aae7-3b27e80c5112",
   "metadata": {
    "tags": []
   },
   "outputs": [],
   "source": [
    "# arbitrary number of keyword arguments\n",
    "\n",
    "def plot(**args):\n",
    "    \n",
    "    return args"
   ]
  },
  {
   "cell_type": "code",
   "execution_count": 158,
   "id": "1deef324-d7f1-4ce4-9bc5-58e77a5a3bcf",
   "metadata": {
    "tags": []
   },
   "outputs": [
    {
     "data": {
      "text/plain": [
       "{'x': 'month', 'y': 'sales', 'color': 'red'}"
      ]
     },
     "execution_count": 158,
     "metadata": {},
     "output_type": "execute_result"
    }
   ],
   "source": [
    "plot(x='month',y='sales',color='red')"
   ]
  },
  {
   "cell_type": "code",
   "execution_count": 159,
   "id": "61f6431e-6974-4ae0-a470-72a6344b454b",
   "metadata": {
    "tags": []
   },
   "outputs": [],
   "source": [
    "def cube(x):\n",
    "    return x**3"
   ]
  },
  {
   "cell_type": "code",
   "execution_count": 160,
   "id": "ca1fc7ae-491f-477f-bc8f-66f61e33068d",
   "metadata": {
    "tags": []
   },
   "outputs": [],
   "source": [
    "x = [12,4,7]"
   ]
  },
  {
   "cell_type": "code",
   "execution_count": 161,
   "id": "57dc406b-61bb-4dc3-abab-5e1fa72d296f",
   "metadata": {
    "tags": []
   },
   "outputs": [
    {
     "data": {
      "text/plain": [
       "[1728, 64, 343]"
      ]
     },
     "execution_count": 161,
     "metadata": {},
     "output_type": "execute_result"
    }
   ],
   "source": [
    "list(map(cube,x))"
   ]
  },
  {
   "cell_type": "code",
   "execution_count": 162,
   "id": "ede0c205-c8cf-4eae-936c-27710a4bdb43",
   "metadata": {
    "tags": []
   },
   "outputs": [],
   "source": [
    "res = map(cube,x)"
   ]
  },
  {
   "cell_type": "code",
   "execution_count": 164,
   "id": "b9597405-2a1b-451e-80ec-542917a4225d",
   "metadata": {
    "tags": []
   },
   "outputs": [
    {
     "name": "stdout",
     "output_type": "stream",
     "text": [
      "1728\n",
      "64\n",
      "343\n"
     ]
    }
   ],
   "source": [
    "for i in res:\n",
    "    print(i)"
   ]
  },
  {
   "cell_type": "code",
   "execution_count": 165,
   "id": "9f5bb8b3-63cd-432c-b547-9ba96dd25f3e",
   "metadata": {
    "tags": []
   },
   "outputs": [],
   "source": [
    "def is_even(n):\n",
    "    return n%2==0"
   ]
  },
  {
   "cell_type": "code",
   "execution_count": 166,
   "id": "5230e841-a963-4afb-ace1-dfa6cd296690",
   "metadata": {
    "tags": []
   },
   "outputs": [
    {
     "data": {
      "text/plain": [
       "[12, 4, 7]"
      ]
     },
     "execution_count": 166,
     "metadata": {},
     "output_type": "execute_result"
    }
   ],
   "source": [
    "x"
   ]
  },
  {
   "cell_type": "code",
   "execution_count": 167,
   "id": "37959a4a-2b27-4226-a157-fe66010bf7d7",
   "metadata": {
    "tags": []
   },
   "outputs": [
    {
     "data": {
      "text/plain": [
       "[12, 4]"
      ]
     },
     "execution_count": 167,
     "metadata": {},
     "output_type": "execute_result"
    }
   ],
   "source": [
    "list(filter(is_even,x))"
   ]
  },
  {
   "cell_type": "code",
   "execution_count": 168,
   "id": "64ebf32f-b3ec-46e6-9026-66b8af1d8a77",
   "metadata": {
    "tags": []
   },
   "outputs": [
    {
     "data": {
      "text/plain": [
       "[1728, 64, 343]"
      ]
     },
     "execution_count": 168,
     "metadata": {},
     "output_type": "execute_result"
    }
   ],
   "source": [
    "list(map( lambda z:z**3  , x     ))"
   ]
  },
  {
   "cell_type": "markdown",
   "id": "5d70d979-79e0-4a97-a3db-32d28579cba8",
   "metadata": {},
   "source": [
    "#### Working with strings"
   ]
  },
  {
   "cell_type": "code",
   "execution_count": 170,
   "id": "2e23ce0a-d584-42d3-b81e-04bd3cbede82",
   "metadata": {
    "tags": []
   },
   "outputs": [],
   "source": [
    "text = \"Python Programming\""
   ]
  },
  {
   "cell_type": "code",
   "execution_count": 171,
   "id": "66e03290-8449-4e34-be0a-3f9109ba1e1b",
   "metadata": {
    "tags": []
   },
   "outputs": [
    {
     "name": "stdout",
     "output_type": "stream",
     "text": [
      "P\n",
      "y\n",
      "t\n",
      "h\n",
      "o\n",
      "n\n",
      " \n",
      "P\n",
      "r\n",
      "o\n",
      "g\n",
      "r\n",
      "a\n",
      "m\n",
      "m\n",
      "i\n",
      "n\n",
      "g\n"
     ]
    }
   ],
   "source": [
    "for j in text:\n",
    "    print(j)"
   ]
  },
  {
   "cell_type": "code",
   "execution_count": 173,
   "id": "12be046e-7d42-4131-a4c7-f41905415934",
   "metadata": {
    "tags": []
   },
   "outputs": [
    {
     "data": {
      "text/plain": [
       "'python programming'"
      ]
     },
     "execution_count": 173,
     "metadata": {},
     "output_type": "execute_result"
    }
   ],
   "source": [
    "text.lower()"
   ]
  },
  {
   "cell_type": "code",
   "execution_count": 174,
   "id": "98e8e3d6-73e9-491e-a315-7e8e5ba3ae2a",
   "metadata": {
    "tags": []
   },
   "outputs": [
    {
     "data": {
      "text/plain": [
       "'Java Programming'"
      ]
     },
     "execution_count": 174,
     "metadata": {},
     "output_type": "execute_result"
    }
   ],
   "source": [
    "text.replace(\"Python\",\"Java\")"
   ]
  },
  {
   "cell_type": "code",
   "execution_count": 175,
   "id": "abc74953-8a61-44f8-a394-ded3b46879c7",
   "metadata": {
    "tags": []
   },
   "outputs": [
    {
     "data": {
      "text/plain": [
       "['Python', 'Programming']"
      ]
     },
     "execution_count": 175,
     "metadata": {},
     "output_type": "execute_result"
    }
   ],
   "source": [
    "text.split()"
   ]
  },
  {
   "cell_type": "code",
   "execution_count": 177,
   "id": "2399e246-01a9-498d-a046-1fee9cec1c22",
   "metadata": {
    "tags": []
   },
   "outputs": [
    {
     "data": {
      "text/plain": [
       "['Pyth', 'n Pr', 'gramming']"
      ]
     },
     "execution_count": 177,
     "metadata": {},
     "output_type": "execute_result"
    }
   ],
   "source": [
    "text.split(\"o\")"
   ]
  },
  {
   "cell_type": "code",
   "execution_count": 178,
   "id": "3fb89bab-ceed-4312-9fde-b33baa51e1d9",
   "metadata": {
    "tags": []
   },
   "outputs": [],
   "source": [
    "passenger_names =\"Ferguson, Mr. Alex\""
   ]
  },
  {
   "cell_type": "code",
   "execution_count": 183,
   "id": "ada43242-66c9-4f6e-ab7d-717b8b464325",
   "metadata": {
    "tags": []
   },
   "outputs": [
    {
     "data": {
      "text/plain": [
       "'Mr'"
      ]
     },
     "execution_count": 183,
     "metadata": {},
     "output_type": "execute_result"
    }
   ],
   "source": [
    "passenger_names.split(\",\")[1].split(\".\")[0].strip()"
   ]
  },
  {
   "cell_type": "code",
   "execution_count": 187,
   "id": "ba89b628-5142-483a-afae-e15495ac451b",
   "metadata": {
    "tags": []
   },
   "outputs": [
    {
     "data": {
      "text/plain": [
       "'Mr'"
      ]
     },
     "execution_count": 187,
     "metadata": {},
     "output_type": "execute_result"
    }
   ],
   "source": [
    "passenger_names.split(\".\")[0].split()[1]"
   ]
  },
  {
   "cell_type": "markdown",
   "id": "6c86061c-7760-4ebf-941b-4c354bb3367b",
   "metadata": {},
   "source": [
    "####  File Operations \n",
    "- r: read\n",
    "- w: write\n",
    "- a: append\n",
    "- r+: read and write both"
   ]
  },
  {
   "cell_type": "code",
   "execution_count": 191,
   "id": "c4104693-3030-45c7-a85f-4352a7e52f45",
   "metadata": {
    "tags": []
   },
   "outputs": [],
   "source": [
    "file = open(\"ml.txt\",mode=\"w\")"
   ]
  },
  {
   "cell_type": "code",
   "execution_count": 192,
   "id": "53d5a4a6-42ba-4a17-a02f-5c0c20172019",
   "metadata": {
    "tags": []
   },
   "outputs": [
    {
     "data": {
      "text/plain": [
       "55"
      ]
     },
     "execution_count": 192,
     "metadata": {},
     "output_type": "execute_result"
    }
   ],
   "source": [
    "file.write(\"Machine Learning is a subset of AI. DL is subset of ML.\")"
   ]
  },
  {
   "cell_type": "code",
   "execution_count": 193,
   "id": "b5fc2e8d-4bf7-4aac-acf7-59a1089c2f78",
   "metadata": {
    "tags": []
   },
   "outputs": [],
   "source": [
    "file.close()"
   ]
  },
  {
   "cell_type": "code",
   "execution_count": 194,
   "id": "807ad5cd-2e32-48a2-9aa9-89ce2f5f190b",
   "metadata": {
    "tags": []
   },
   "outputs": [],
   "source": [
    "with open(\"ml.txt\",\"w\") as file:\n",
    "    file.write(\"AI\")"
   ]
  },
  {
   "cell_type": "code",
   "execution_count": 195,
   "id": "738ca48a-aed6-49df-871a-f0a2e8a4af98",
   "metadata": {
    "tags": []
   },
   "outputs": [
    {
     "data": {
      "text/plain": [
       "True"
      ]
     },
     "execution_count": 195,
     "metadata": {},
     "output_type": "execute_result"
    }
   ],
   "source": [
    "file.closed"
   ]
  },
  {
   "cell_type": "code",
   "execution_count": 196,
   "id": "0754df95-8118-4e31-90f8-8e1b595b9036",
   "metadata": {
    "tags": []
   },
   "outputs": [],
   "source": [
    "file = open(\"ml.txt\")\n"
   ]
  },
  {
   "cell_type": "code",
   "execution_count": 198,
   "id": "a9c3eb18-f440-4d87-a73a-27558cdde0d9",
   "metadata": {
    "tags": []
   },
   "outputs": [
    {
     "name": "stdout",
     "output_type": "stream",
     "text": [
      "\n"
     ]
    }
   ],
   "source": [
    "print(file.read())"
   ]
  },
  {
   "cell_type": "code",
   "execution_count": 200,
   "id": "1f330ebf-472a-4d19-8690-5787e94dd3ad",
   "metadata": {
    "tags": []
   },
   "outputs": [
    {
     "data": {
      "text/plain": [
       "1006"
      ]
     },
     "execution_count": 200,
     "metadata": {},
     "output_type": "execute_result"
    }
   ],
   "source": [
    "file.tell()"
   ]
  },
  {
   "cell_type": "code",
   "execution_count": 201,
   "id": "655f8bca-5344-4e4f-b6fa-15916a28a69c",
   "metadata": {
    "tags": []
   },
   "outputs": [
    {
     "data": {
      "text/plain": [
       "0"
      ]
     },
     "execution_count": 201,
     "metadata": {},
     "output_type": "execute_result"
    }
   ],
   "source": [
    "file.seek(0)"
   ]
  },
  {
   "cell_type": "code",
   "execution_count": 202,
   "id": "d82a808b-f64a-4286-890c-776ce62eb0cc",
   "metadata": {
    "tags": []
   },
   "outputs": [
    {
     "data": {
      "text/plain": [
       "'Machine learning (ML) is a field of study in artificial intelligence concerned with the development and study of statistical algorithms that can learn from data and generalize to unseen data, and thus perform tasks without explicit instructions.[1] Quick progress in the field of deep learning, beginning in 2010s, allowed neural networks to surpass many previous approaches in performance.[2]\\n\\nML finds application in many fields, including natural language processing, computer vision, speech recognition, email filtering, agriculture, and medicine.[3][4] The application of ML to business problems is known as predictive analytics.\\n\\nStatistics and mathematical optimization (mathematical programming) methods comprise the foundations of machine learning. Data mining is a related field of study, focusing on exploratory data analysis (EDA) via unsupervised learning.[6][7]\\n\\nFrom a theoretical viewpoint, probably approximately correct (PAC) learning provides a framework for describing machine learning.'"
      ]
     },
     "execution_count": 202,
     "metadata": {},
     "output_type": "execute_result"
    }
   ],
   "source": [
    "file.read()"
   ]
  },
  {
   "cell_type": "code",
   "execution_count": 203,
   "id": "d816d694-6da0-4b3f-8a75-e810e76bc204",
   "metadata": {
    "tags": []
   },
   "outputs": [
    {
     "data": {
      "text/plain": [
       "0"
      ]
     },
     "execution_count": 203,
     "metadata": {},
     "output_type": "execute_result"
    }
   ],
   "source": [
    "file.seek(0)"
   ]
  },
  {
   "cell_type": "code",
   "execution_count": 208,
   "id": "0785b778-f672-44fc-a07a-5055a86d9da0",
   "metadata": {
    "tags": []
   },
   "outputs": [
    {
     "name": "stdout",
     "output_type": "stream",
     "text": [
      "ning in 2010s, allowed neural networks to surpass many previous approaches in performance.[2]\n",
      "\n",
      "ML fi\n"
     ]
    }
   ],
   "source": [
    "print(file.read(100))"
   ]
  },
  {
   "cell_type": "code",
   "execution_count": 209,
   "id": "47d37b7c-6f3b-4f73-a39a-276ca2385ee9",
   "metadata": {
    "tags": []
   },
   "outputs": [
    {
     "data": {
      "text/plain": [
       "0"
      ]
     },
     "execution_count": 209,
     "metadata": {},
     "output_type": "execute_result"
    }
   ],
   "source": [
    "file.seek(0)"
   ]
  },
  {
   "cell_type": "code",
   "execution_count": 214,
   "id": "7a131400-bb1f-4e86-a15c-696db82741ed",
   "metadata": {
    "tags": []
   },
   "outputs": [
    {
     "data": {
      "text/plain": [
       "'Statistics and mathematical optimization (mathematical programming) methods comprise the foundations of machine learning. Data mining is a related field of study, focusing on exploratory data analysis (EDA) via unsupervised learning.[6][7]\\n'"
      ]
     },
     "execution_count": 214,
     "metadata": {},
     "output_type": "execute_result"
    }
   ],
   "source": [
    "file.readline()"
   ]
  },
  {
   "cell_type": "code",
   "execution_count": 215,
   "id": "1b6fba24-a22d-4e3a-9d31-9f804af2355e",
   "metadata": {
    "tags": []
   },
   "outputs": [
    {
     "data": {
      "text/plain": [
       "0"
      ]
     },
     "execution_count": 215,
     "metadata": {},
     "output_type": "execute_result"
    }
   ],
   "source": [
    "file.seek(0)"
   ]
  },
  {
   "cell_type": "code",
   "execution_count": 216,
   "id": "fcfb1110-957d-4113-951a-d76425d9d903",
   "metadata": {
    "tags": []
   },
   "outputs": [
    {
     "data": {
      "text/plain": [
       "['Machine learning (ML) is a field of study in artificial intelligence concerned with the development and study of statistical algorithms that can learn from data and generalize to unseen data, and thus perform tasks without explicit instructions.[1] Quick progress in the field of deep learning, beginning in 2010s, allowed neural networks to surpass many previous approaches in performance.[2]\\n',\n",
       " '\\n',\n",
       " 'ML finds application in many fields, including natural language processing, computer vision, speech recognition, email filtering, agriculture, and medicine.[3][4] The application of ML to business problems is known as predictive analytics.\\n',\n",
       " '\\n',\n",
       " 'Statistics and mathematical optimization (mathematical programming) methods comprise the foundations of machine learning. Data mining is a related field of study, focusing on exploratory data analysis (EDA) via unsupervised learning.[6][7]\\n',\n",
       " '\\n',\n",
       " 'From a theoretical viewpoint, probably approximately correct (PAC) learning provides a framework for describing machine learning.']"
      ]
     },
     "execution_count": 216,
     "metadata": {},
     "output_type": "execute_result"
    }
   ],
   "source": [
    "file.readlines()"
   ]
  },
  {
   "cell_type": "code",
   "execution_count": 217,
   "id": "f8417854-b715-4110-ac3d-12fea9589903",
   "metadata": {
    "tags": []
   },
   "outputs": [],
   "source": [
    "file.close()"
   ]
  },
  {
   "cell_type": "code",
   "execution_count": 218,
   "id": "8fa9f8fc-fddc-41a0-bff3-2395207fbf40",
   "metadata": {
    "tags": []
   },
   "outputs": [],
   "source": [
    "file = open(\"log.txt\",mode=\"w\")\n",
    "file.write(\"This is a log file.\")"
   ]
  },
  {
   "cell_type": "code",
   "execution_count": 219,
   "id": "9ac115ff-5e33-4738-af37-5c15e4730658",
   "metadata": {
    "tags": []
   },
   "outputs": [],
   "source": [
    "file.close()"
   ]
  },
  {
   "cell_type": "code",
   "execution_count": 224,
   "id": "762c47cc-77c8-4f4a-9ab2-cea0641e0b62",
   "metadata": {
    "tags": []
   },
   "outputs": [],
   "source": [
    "file = open(\"log.txt\",mode=\"a\")\n",
    "file.write(\"Details are:\")\n",
    "file.write(\"\\nDate Time Description\")\n",
    "file.close()"
   ]
  },
  {
   "cell_type": "code",
   "execution_count": 224,
   "id": "39c48f18-1d3a-4a21-be50-43c716d735a7",
   "metadata": {
    "tags": []
   },
   "outputs": [],
   "source": []
  },
  {
   "cell_type": "code",
   "execution_count": 224,
   "id": "40fa729e-e702-4f2c-a6c3-f53a63531a06",
   "metadata": {
    "tags": []
   },
   "outputs": [],
   "source": [
    "# https://codeshare.io/J7gyWX\n",
    "\n",
    "def menu():\n",
    "    print('''\\t1 - Add expense\n",
    "    2 - View expenses \n",
    "    3 - Track budget\n",
    "    4 - Save expenses\n",
    "    5 - Exit''')\n",
    "    \n",
    "    user_input = input(\"Choose an option from the menu\")\n",
    "    \n",
    "    "
   ]
  },
  {
   "cell_type": "code",
   "execution_count": 225,
   "id": "63236b16-1ae2-45e4-aa7e-83c381bc05fe",
   "metadata": {
    "tags": []
   },
   "outputs": [
    {
     "name": "stdout",
     "output_type": "stream",
     "text": [
      "\t1 - Add expense\n",
      "    2 - View expenses \n",
      "    3 - Track budget\n",
      "    4 - Save expenses\n",
      "    5 - Exit\n"
     ]
    },
    {
     "ename": "KeyboardInterrupt",
     "evalue": "Interrupted by user",
     "output_type": "error",
     "traceback": [
      "\u001b[1;31m---------------------------------------------------------------------------\u001b[0m",
      "\u001b[1;31mKeyboardInterrupt\u001b[0m                         Traceback (most recent call last)",
      "Cell \u001b[1;32mIn[225], line 1\u001b[0m\n\u001b[1;32m----> 1\u001b[0m menu()\n",
      "Cell \u001b[1;32mIn[224], line 8\u001b[0m, in \u001b[0;36mmenu\u001b[1;34m()\u001b[0m\n\u001b[0;32m      1\u001b[0m \u001b[38;5;28;01mdef\u001b[39;00m \u001b[38;5;21mmenu\u001b[39m():\n\u001b[0;32m      2\u001b[0m     \u001b[38;5;28mprint\u001b[39m(\u001b[38;5;124m'''\u001b[39m\u001b[38;5;130;01m\\t\u001b[39;00m\u001b[38;5;124m1 - Add expense\u001b[39m\n\u001b[0;32m      3\u001b[0m \u001b[38;5;124m    2 - View expenses \u001b[39m\n\u001b[0;32m      4\u001b[0m \u001b[38;5;124m    3 - Track budget\u001b[39m\n\u001b[0;32m      5\u001b[0m \u001b[38;5;124m    4 - Save expenses\u001b[39m\n\u001b[0;32m      6\u001b[0m \u001b[38;5;124m    5 - Exit\u001b[39m\u001b[38;5;124m'''\u001b[39m)\n\u001b[1;32m----> 8\u001b[0m     user_input \u001b[38;5;241m=\u001b[39m \u001b[38;5;28minput\u001b[39m(\u001b[38;5;124m\"\u001b[39m\u001b[38;5;124mChoose an option from the menu\u001b[39m\u001b[38;5;124m\"\u001b[39m)\n",
      "File \u001b[1;32m~\\anaconda3\\Lib\\site-packages\\ipykernel\\kernelbase.py:1175\u001b[0m, in \u001b[0;36mKernel.raw_input\u001b[1;34m(self, prompt)\u001b[0m\n\u001b[0;32m   1171\u001b[0m \u001b[38;5;28;01mif\u001b[39;00m \u001b[38;5;129;01mnot\u001b[39;00m \u001b[38;5;28mself\u001b[39m\u001b[38;5;241m.\u001b[39m_allow_stdin:\n\u001b[0;32m   1172\u001b[0m     \u001b[38;5;28;01mraise\u001b[39;00m StdinNotImplementedError(\n\u001b[0;32m   1173\u001b[0m         \u001b[38;5;124m\"\u001b[39m\u001b[38;5;124mraw_input was called, but this frontend does not support input requests.\u001b[39m\u001b[38;5;124m\"\u001b[39m\n\u001b[0;32m   1174\u001b[0m     )\n\u001b[1;32m-> 1175\u001b[0m \u001b[38;5;28;01mreturn\u001b[39;00m \u001b[38;5;28mself\u001b[39m\u001b[38;5;241m.\u001b[39m_input_request(\n\u001b[0;32m   1176\u001b[0m     \u001b[38;5;28mstr\u001b[39m(prompt),\n\u001b[0;32m   1177\u001b[0m     \u001b[38;5;28mself\u001b[39m\u001b[38;5;241m.\u001b[39m_parent_ident[\u001b[38;5;124m\"\u001b[39m\u001b[38;5;124mshell\u001b[39m\u001b[38;5;124m\"\u001b[39m],\n\u001b[0;32m   1178\u001b[0m     \u001b[38;5;28mself\u001b[39m\u001b[38;5;241m.\u001b[39mget_parent(\u001b[38;5;124m\"\u001b[39m\u001b[38;5;124mshell\u001b[39m\u001b[38;5;124m\"\u001b[39m),\n\u001b[0;32m   1179\u001b[0m     password\u001b[38;5;241m=\u001b[39m\u001b[38;5;28;01mFalse\u001b[39;00m,\n\u001b[0;32m   1180\u001b[0m )\n",
      "File \u001b[1;32m~\\anaconda3\\Lib\\site-packages\\ipykernel\\kernelbase.py:1217\u001b[0m, in \u001b[0;36mKernel._input_request\u001b[1;34m(self, prompt, ident, parent, password)\u001b[0m\n\u001b[0;32m   1214\u001b[0m             \u001b[38;5;28;01mbreak\u001b[39;00m\n\u001b[0;32m   1215\u001b[0m \u001b[38;5;28;01mexcept\u001b[39;00m \u001b[38;5;167;01mKeyboardInterrupt\u001b[39;00m:\n\u001b[0;32m   1216\u001b[0m     \u001b[38;5;66;03m# re-raise KeyboardInterrupt, to truncate traceback\u001b[39;00m\n\u001b[1;32m-> 1217\u001b[0m     \u001b[38;5;28;01mraise\u001b[39;00m \u001b[38;5;167;01mKeyboardInterrupt\u001b[39;00m(\u001b[38;5;124m\"\u001b[39m\u001b[38;5;124mInterrupted by user\u001b[39m\u001b[38;5;124m\"\u001b[39m) \u001b[38;5;28;01mfrom\u001b[39;00m \u001b[38;5;28;01mNone\u001b[39;00m\n\u001b[0;32m   1218\u001b[0m \u001b[38;5;28;01mexcept\u001b[39;00m \u001b[38;5;167;01mException\u001b[39;00m:\n\u001b[0;32m   1219\u001b[0m     \u001b[38;5;28mself\u001b[39m\u001b[38;5;241m.\u001b[39mlog\u001b[38;5;241m.\u001b[39mwarning(\u001b[38;5;124m\"\u001b[39m\u001b[38;5;124mInvalid Message:\u001b[39m\u001b[38;5;124m\"\u001b[39m, exc_info\u001b[38;5;241m=\u001b[39m\u001b[38;5;28;01mTrue\u001b[39;00m)\n",
      "\u001b[1;31mKeyboardInterrupt\u001b[0m: Interrupted by user"
     ]
    }
   ],
   "source": [
    "menu()"
   ]
  },
  {
   "cell_type": "code",
   "execution_count": null,
   "id": "b9ac50bd-3ba1-4ac0-91d5-c07c43568e1d",
   "metadata": {},
   "outputs": [],
   "source": []
  }
 ],
 "metadata": {
  "kernelspec": {
   "display_name": "Python 3 (ipykernel)",
   "language": "python",
   "name": "python3"
  },
  "language_info": {
   "codemirror_mode": {
    "name": "ipython",
    "version": 3
   },
   "file_extension": ".py",
   "mimetype": "text/x-python",
   "name": "python",
   "nbconvert_exporter": "python",
   "pygments_lexer": "ipython3",
   "version": "3.11.4"
  }
 },
 "nbformat": 4,
 "nbformat_minor": 5
}
